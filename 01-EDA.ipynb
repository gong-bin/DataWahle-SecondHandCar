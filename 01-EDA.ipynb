{
 "nbformat": 4,
 "nbformat_minor": 2,
 "metadata": {
  "language_info": {
   "name": "python",
   "codemirror_mode": {
    "name": "ipython",
    "version": 3
   },
   "version": "3.7.4-final"
  },
  "orig_nbformat": 2,
  "file_extension": ".py",
  "mimetype": "text/x-python",
  "name": "python",
  "npconvert_exporter": "python",
  "pygments_lexer": "ipython3",
  "version": 3,
  "kernelspec": {
   "name": "python3",
   "display_name": "Python 3"
  }
 },
 "cells": [
  {
   "cell_type": "code",
   "execution_count": null,
   "metadata": {},
   "outputs": [],
   "source": [
    "import numpy as np \n",
    "import pandas as pd \n",
    "import warnings \n",
    "import matplotlib\n",
    "import matplotlib.pyplot as plt  \n",
    "import seaborn as sns\n",
    "from scipy.special import jn \n",
    "from IPython.display import display, clear_output\n",
    "import time\n",
    "warnings.filterwarnings('ignore') \n",
    ""
   ]
  },
  {
   "cell_type": "code",
   "execution_count": null,
   "metadata": {},
   "outputs": [],
   "source": [
    "DATA_FREFIX = '/Users/gongbin/data/数据竞赛/天池__二手乘用车'\n",
    "TRAIN_FILE = 'used_car_train_20200313.csv'\n",
    "TEST_FILE = 'used_car_testA_20200313.csv'"
   ]
  },
  {
   "cell_type": "code",
   "execution_count": null,
   "metadata": {},
   "outputs": [],
   "source": [
    "train_data = pd.read_csv('/'.join([DATA_FREFIX, TRAIN_FILE]),sep = ' ', index_col = 'SaleID')\n",
    "test_data = pd.read_csv('/'.join([DATA_FREFIX, TEST_FILE]),sep = ' ', index_col = 'SaleID')"
   ]
  },
  {
   "cell_type": "code",
   "execution_count": null,
   "metadata": {},
   "outputs": [],
   "source": [
    "train_data.head()"
   ]
  },
  {
   "cell_type": "code",
   "execution_count": 7,
   "metadata": {},
   "outputs": [
    {
     "output_type": "stream",
     "name": "stdout",
     "text": "<class 'pandas.core.frame.DataFrame'>\nInt64Index: 150000 entries, 0 to 149999\nData columns (total 30 columns):\nname                 150000 non-null int64\nregDate              150000 non-null int64\nmodel                149999 non-null float64\nbrand                150000 non-null int64\nbodyType             145494 non-null float64\nfuelType             141320 non-null float64\ngearbox              144019 non-null float64\npower                150000 non-null int64\nkilometer            150000 non-null float64\nnotRepairedDamage    150000 non-null object\nregionCode           150000 non-null int64\nseller               150000 non-null int64\nofferType            150000 non-null int64\ncreatDate            150000 non-null int64\nprice                150000 non-null int64\nv_0                  150000 non-null float64\nv_1                  150000 non-null float64\nv_2                  150000 non-null float64\nv_3                  150000 non-null float64\nv_4                  150000 non-null float64\nv_5                  150000 non-null float64\nv_6                  150000 non-null float64\nv_7                  150000 non-null float64\nv_8                  150000 non-null float64\nv_9                  150000 non-null float64\nv_10                 150000 non-null float64\nv_11                 150000 non-null float64\nv_12                 150000 non-null float64\nv_13                 150000 non-null float64\nv_14                 150000 non-null float64\ndtypes: float64(20), int64(9), object(1)\nmemory usage: 40.5+ MB\n"
    }
   ],
   "source": [
    "train_data.info()"
   ]
  },
  {
   "cell_type": "code",
   "execution_count": null,
   "metadata": {},
   "outputs": [],
   "source": []
  },
  {
   "cell_type": "code",
   "execution_count": null,
   "metadata": {},
   "outputs": [],
   "source": []
  }
 ]
}